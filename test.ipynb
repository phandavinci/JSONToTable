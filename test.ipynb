{
 "cells": [
  {
   "cell_type": "code",
   "execution_count": 9,
   "metadata": {},
   "outputs": [],
   "source": [
    "from postpy2.core import PostPython\n",
    "runner = PostPython('inputpostman.json')"
   ]
  },
  {
   "cell_type": "code",
   "execution_count": 63,
   "metadata": {},
   "outputs": [
    {
     "ename": "AttributeError",
     "evalue": "'PostRequest' object has no attribute 'json'",
     "output_type": "error",
     "traceback": [
      "\u001b[1;31m---------------------------------------------------------------------------\u001b[0m",
      "\u001b[1;31mAttributeError\u001b[0m                            Traceback (most recent call last)",
      "Cell \u001b[1;32mIn[63], line 2\u001b[0m\n\u001b[0;32m      1\u001b[0m name \u001b[38;5;241m=\u001b[39m \u001b[38;5;124m\"\u001b[39m\u001b[38;5;124mGetDemand History\u001b[39m\u001b[38;5;124m\"\u001b[39m\n\u001b[1;32m----> 2\u001b[0m res \u001b[38;5;241m=\u001b[39m \u001b[38;5;28;43mgetattr\u001b[39;49m\u001b[43m(\u001b[49m\u001b[43mrunner\u001b[49m\u001b[38;5;241;43m.\u001b[39;49m\u001b[43mLsams\u001b[49m\u001b[43m,\u001b[49m\u001b[43m \u001b[49m\u001b[43mname\u001b[49m\u001b[38;5;241;43m.\u001b[39;49m\u001b[43mstrip\u001b[49m\u001b[43m(\u001b[49m\u001b[43m)\u001b[49m\u001b[38;5;241;43m.\u001b[39;49m\u001b[43mlower\u001b[49m\u001b[43m(\u001b[49m\u001b[43m)\u001b[49m\u001b[38;5;241;43m.\u001b[39;49m\u001b[43mreplace\u001b[49m\u001b[43m(\u001b[49m\u001b[38;5;124;43m\"\u001b[39;49m\u001b[38;5;124;43m \u001b[39;49m\u001b[38;5;124;43m\"\u001b[39;49m\u001b[43m,\u001b[49m\u001b[43m \u001b[49m\u001b[38;5;124;43m\"\u001b[39;49m\u001b[38;5;124;43m_\u001b[39;49m\u001b[38;5;124;43m\"\u001b[39;49m\u001b[43m)\u001b[49m\u001b[43m)\u001b[49m\u001b[38;5;241;43m.\u001b[39;49m\u001b[43mjson\u001b[49m()\n\u001b[0;32m      3\u001b[0m \u001b[38;5;28mprint\u001b[39m(res)\n",
      "\u001b[1;31mAttributeError\u001b[0m: 'PostRequest' object has no attribute 'json'"
     ]
    }
   ],
   "source": [
    "name = \"GetDemand History\"\n",
    "res = getattr(runner.Lsams, name.strip().lower().replace(\" \", \"_\"))().json()\n",
    "print(res)"
   ]
  },
  {
   "cell_type": "code",
   "execution_count": 6,
   "metadata": {},
   "outputs": [
    {
     "name": "stdout",
     "output_type": "stream",
     "text": [
      "[{'name': 'GetTransactionHistory', 'protocolProfileBehavior': {'disableBodyPruning': True}, 'request': {'method': 'GET', 'header': [{'key': 'Ocp-Apim-Subscription-Key', 'value': '6151c92b6663458ea056037ba4b57e95', 'type': 'text'}], 'body': {'mode': 'graphql', 'graphql': {'query': '', 'variables': ''}}, 'url': {'raw': 'https://mrcooperqa.azure-api.net/uae/lsamspaymentprocess/loanPaymentTransactions/134419605/NSM/history?numberOfDays=90&department=Escrow&departmentGroup=BackOfficeGroup', 'protocol': 'https', 'host': ['mrcooperqa', 'azure-api', 'net'], 'path': ['uae', 'lsamspaymentprocess', 'loanPaymentTransactions', '134419605', 'NSM', 'history'], 'query': [{'key': 'numberOfDays', 'value': '90'}, {'key': 'department', 'value': 'Escrow'}, {'key': 'departmentGroup', 'value': 'BackOfficeGroup'}]}}, 'response': []}, {'name': 'GetDemand History', 'request': {'method': 'POST', 'header': [{'key': 'Ocp-Apim-Trace', 'value': 'true', 'type': 'text'}, {'key': 'Content-Type', 'value': 'application/json', 'type': 'text'}, {'key': 'Ocp-Apim-Subscription-Key', 'value': '6151c92b6663458ea056037ba4b57e95', 'type': 'text'}], 'body': {'mode': 'raw', 'raw': '{\\r\\n \"getDemandHistory\": {\\r\\n \"wsUserId\": \"brandLoanDemandHistory\", \\r\\n \"wsPassword\": \"yrotsihDnamedNaolDnarb\", \\r\\n \"loanNumber\": \"596400270\",\\r\\n \"brandArray\": [\\r\\n \"NSM\"\\r\\n ]\\r\\n }\\r\\n}'}, 'url': {'raw': 'https://mrcooperqa.azure-api.net/uae/lsams/loandemandhistory/getDemandHistory', 'protocol': 'https', 'host': ['mrcooperqa', 'azure-api', 'net'], 'path': ['uae', 'lsams', 'loandemandhistory', 'getDemandHistory']}}, 'response': []}, {'name': 'GetCommentCodeByFilter', 'request': {'method': 'POST', 'header': [{'key': 'Ocp-Apim-Subscription-Key', 'value': '6151c92b6663458ea056037ba4b57e95', 'type': 'text'}, {'key': 'Content-Type', 'value': 'application/json', 'type': 'text'}], 'body': {'mode': 'raw', 'raw': '{\"getCommentCodesByFilter\":{\"wsUserId\":\"brandCommentCode\",\"wsPassword\":\"edoCtnemmocDnarb\",\"loanNumber\":\"58568589\",\"commentCode\":\"CSEA\",\"commentClass\":\"\",\"enteredBy\":\"\",\"fromEnterDate\":\"2023-07-29\",\"toEnterDate\":\"2023-08-28\",\"brandArray\":[\"RSH\"]}}'}, 'url': {'raw': 'https://mrcooperqa.azure-api.net/lsams/commentcode/getCommentCodesByFilter', 'protocol': 'https', 'host': ['mrcooperqa', 'azure-api', 'net'], 'path': ['lsams', 'commentcode', 'getCommentCodesByFilter']}}, 'response': []}, {'name': 'GetLoanInformation', 'request': {'method': 'POST', 'header': [{'key': 'Ocp-Apim-Subscription-Key', 'value': 'fb04e8fb2623447aaa3cc32d6be5752d', 'type': 'text'}], 'body': {'mode': 'raw', 'raw': '{\\r\\n    \"getLoanInformation\": \\r\\n    {\\r\\n        \"wsUserId\": \"brandLoanInformationExtendedV2\",\\r\\n        \"wsPassword\": \"2vDednetxeNoitamrofniNaolDnarb\",\\r\\n        \"loanNumber\": \"638833467\",\\r\\n        \"brandArray\": [\\r\\n            \"NSM\"\\r\\n        ]\\r\\n    }\\r\\n}', 'options': {'raw': {'language': 'json'}}}, 'url': {'raw': 'https://mrcooperdev.azure-api.net/lsams/brandloaninformationextendedv2/getLoanInformation', 'protocol': 'https', 'host': ['mrcooperdev', 'azure-api', 'net'], 'path': ['lsams', 'brandloaninformationextendedv2', 'getLoanInformation']}}, 'response': []}, {'name': 'GetLoanInformation Copy', 'request': {'method': 'POST', 'header': [{'key': 'Ocp-Apim-Subscription-Key', 'value': '6151c92b6663458ea056037ba4b57e95', 'type': 'text'}], 'body': {'mode': 'raw', 'raw': '{\\r\\n    \"getLoanInformation\": \\r\\n    {\\r\\n        \"wsUserId\": \"brandLoanInformationExtended\",\\r\\n        \"wsPassword\": \"DednetxeNoitamrofniNaolDnarb\",\\r\\n        \"loanNumber\": \"53548559\",\\r\\n        \"brandArray\": [\\r\\n            \"CCM\"\\r\\n        ]\\r\\n    }\\r\\n}', 'options': {'raw': {'language': 'json'}}}, 'url': {'raw': 'https://mrcooperqa.azure-api.net/uae/lsams/loaninformationextended/getLoanInformation', 'protocol': 'https', 'host': ['mrcooperqa', 'azure-api', 'net'], 'path': ['uae', 'lsams', 'loaninformationextended', 'getLoanInformation']}}, 'response': []}, {'name': 'GetTrails', 'request': {'method': 'GET', 'header': [{'key': 'Ocp-Apim-Subscription-Key', 'value': '6151c92b6663458ea056037ba4b57e95', 'type': 'text'}], 'url': {'raw': 'https://mrcooperqa.azure-api.net/cmodremedyservice/TrialTerms?loanId=134419605', 'protocol': 'https', 'host': ['mrcooperqa', 'azure-api', 'net'], 'path': ['cmodremedyservice', 'TrialTerms'], 'query': [{'key': 'loanId', 'value': '134419605'}]}}, 'response': []}, {'name': 'GetLossMitigationCaseHistory', 'request': {'method': 'GET', 'header': [{'key': 'RequestingLoginName', 'value': 'aanwar', 'type': 'text'}, {'key': 'RequestingSystem', 'value': 'dynamics', 'type': 'text'}, {'key': 'Ocp-Apim-Subscription-Key', 'value': '6151c92b6663458ea056037ba4b57e95', 'type': 'text'}, {'key': 'loan', 'value': '596722971', 'type': 'text', 'disabled': True}], 'url': {'raw': 'https://mrcooperqa.azure-api.net/starservicing/remedy/api/loans/134419605/evaluationSummary', 'protocol': 'https', 'host': ['mrcooperqa', 'azure-api', 'net'], 'path': ['starservicing', 'remedy', 'api', 'loans', '134419605', 'evaluationSummary']}}, 'response': []}, {'name': 'GetEquityDetails', 'request': {'method': 'GET', 'header': [{'key': 'Ocp-Apim-Subscription-Key', 'value': 'fb04e8fb2623447aaa3cc32d6be5752d', 'type': 'text'}, {'key': 'X-Application-Id', 'value': 'dynamics-chat', 'type': 'text'}], 'url': {'raw': 'https://mrcooperdev.azure-api.net/apollo-xome/v1/api/xome/valuationEstimate?streetAddress={StreetAddress}&zip={Zip}', 'protocol': 'https', 'host': ['mrcooperdev', 'azure-api', 'net'], 'path': ['apollo-xome', 'v1', 'api', 'xome', 'valuationEstimate'], 'query': [{'key': 'streetAddress', 'value': '{StreetAddress}'}, {'key': 'zip', 'value': '{Zip}'}]}}, 'response': []}, {'name': 'FBEligibility', 'request': {'method': 'GET', 'header': [{'key': 'Ocp-Apim-Subscription-Key', 'value': '8a3a55dabc984d59a5160c3c842efc05', 'type': 'text'}, {'key': 'RequestingLoginName', 'value': 'Website', 'type': 'text'}, {'key': 'RequestingSystem', 'value': 'Dynamics', 'type': 'text'}], 'url': {'raw': 'https://mrcooperuat.azure-api.net/starservicing/remedy/api/cases/repayExtensionEligible?loanId=601278567&brand=NSM', 'protocol': 'https', 'host': ['mrcooperuat', 'azure-api', 'net'], 'path': ['starservicing', 'remedy', 'api', 'cases', 'repayExtensionEligible'], 'query': [{'key': 'loanId', 'value': '601278567'}, {'key': 'brand', 'value': 'NSM'}]}}, 'response': []}, {'name': 'GetYearEndStatement', 'request': {'method': 'GET', 'header': [{'key': 'Ocp-Apim-Subscription-Key', 'value': 'fb04e8fb2623447aaa3cc32d6be5752d', 'type': 'text'}, {'key': 'Accept', 'value': 'application/json', 'type': 'text'}], 'url': {'raw': 'https://mrcooperdev.azure-api.net/uae/lsamsgatewayservice/getYearEndStatement?brandName=NSM&loanNumber=134419605&yearOfStmt=2021&stmtType=1098', 'protocol': 'https', 'host': ['mrcooperdev', 'azure-api', 'net'], 'path': ['uae', 'lsamsgatewayservice', 'getYearEndStatement'], 'query': [{'key': 'brandName', 'value': 'NSM'}, {'key': 'loanNumber', 'value': '134419605'}, {'key': 'yearOfStmt', 'value': '2021'}, {'key': 'stmtType', 'value': '1098'}]}}, 'response': []}, {'name': 'CheckPaperlessStatus', 'request': {'method': 'GET', 'header': [{'key': 'Ocp-Apim-Subscription-Key', 'value': '159ec46b55bb4c4c8e27745b8bff049e', 'type': 'text'}, {'key': 'brand-name', 'value': 'NSM', 'type': 'text'}], 'url': {'raw': 'https://mrcooperdigitalqa.azure-api.net/customermaster/v1/customers/101076703/loans/645438334', 'protocol': 'https', 'host': ['mrcooperdigitalqa', 'azure-api', 'net'], 'path': ['customermaster', 'v1', 'customers', '101076703', 'loans', '645438334']}}, 'response': []}, {'name': 'VelocifyGetLead', 'request': {'method': 'GET', 'header': [{'key': 'Ocp-Apim-Subscription-Key', 'value': 'fb04e8fb2623447aaa3cc32d6be5752d'}], 'url': {'raw': 'https://mrcooperdev.azure-api.net/uae/leads/10644991', 'protocol': 'https', 'host': ['mrcooperdev', 'azure-api', 'net'], 'path': ['uae', 'leads', '10644991']}}, 'response': []}, {'name': 'VelocifyGetLead Copy', 'request': {'method': 'GET', 'header': [{'key': 'Ocp-Apim-Subscription-Key', 'value': 'c3a55ba788cd4e70a3890f6697397ca6'}], 'url': {'raw': 'https://gwy-dv-apim.azure-api.net/atl-leads/uae/leads/10644991', 'protocol': 'https', 'host': ['gwy-dv-apim', 'azure-api', 'net'], 'path': ['atl-leads', 'uae', 'leads', '10644991']}}, 'response': []}, {'name': 'VelocifyModifyLeadStatus', 'request': {'method': 'PUT', 'header': [{'key': 'Ocp-Apim-Subscription-Key', 'value': 'fb04e8fb2623447aaa3cc32d6be5752d'}, {'key': 'subscription-key', 'value': '', 'disabled': True}], 'url': {'raw': 'https://mrcooperdev.azure-api.net/uae/leads/10644991/status/117', 'protocol': 'https', 'host': ['mrcooperdev', 'azure-api', 'net'], 'path': ['uae', 'leads', '10644991', 'status', '117']}}, 'response': []}, {'name': 'VelocifyModifyField', 'request': {'method': 'PUT', 'header': [{'key': 'Ocp-Apim-Subscription-Key', 'value': 'fb04e8fb2623447aaa3cc32d6be5752d', 'type': 'text'}], 'url': {'raw': 'https://mrcooperdev.azure-api.net/uae/leads/10644991/field/1352/value/RapidRefi_WEB_CHAT', 'protocol': 'https', 'host': ['mrcooperdev', 'azure-api', 'net'], 'path': ['uae', 'leads', '10644991', 'field', '1352', 'value', 'RapidRefi_WEB_CHAT'], 'query': [{'key': '', 'value': 'fb04e8fb2623447aaa3cc32d6be5752d', 'disabled': True}]}}, 'response': []}, {'name': 'VelocifyModifyLeadAgent', 'request': {'method': 'GET', 'header': [{'key': 'Ocp-Apim-Subscription-Key', 'value': 'fb04e8fb2623447aaa3cc32d6be5752d', 'type': 'text'}], 'url': {'raw': 'https://mrcooperdev.azure-api.net/uae/leads/10644991/agent/1352', 'protocol': 'https', 'host': ['mrcooperdev', 'azure-api', 'net'], 'path': ['uae', 'leads', '10644991', 'agent', '1352']}}, 'response': []}, {'name': 'VelocifyLeadSubmission', 'request': {'method': 'POST', 'header': [{'key': 'Ocp-Apim-Subscription-Key', 'value': '0a60bd665e764ebea0f7d875abbaeba2', 'type': 'text'}, {'key': 'LeadsSource', 'value': 'Chat', 'type': 'text'}], 'body': {'mode': 'raw', 'raw': '{\"originalLoanNbr\": \"1100003746\",\"newCustomerInd\": \"False\",\"channelName\": \"Chat\",\"marketingProduct\": \"Purchase\",\"homePhone\": \"000-000-000\",\"leadType\": \"CB\",\"agentId\": \"609\",\"agentEmail\": \"UdhayaBanu.J@mrcooper.com\",\"Webkeyword\": \"Daily_Rates_Chat\"}', 'options': {'raw': {'language': 'json'}}}, 'url': {'raw': 'https://mrcooperqa.azure-api.net/LeadSubmission/messages', 'protocol': 'https', 'host': ['mrcooperqa', 'azure-api', 'net'], 'path': ['LeadSubmission', 'messages']}}, 'response': []}, {'name': 'VelocifyLeadSubmission Copy', 'request': {'method': 'POST', 'header': [{'key': 'Ocp-Apim-Subscription-Key', 'value': '0a60bd665e764ebea0f7d875abbaeba2', 'type': 'text'}, {'key': 'LeadsSource', 'value': 'Chat', 'type': 'text'}], 'body': {'mode': 'raw', 'raw': '{\"originalLoanNbr\": \"1100003746\",\"newCustomerInd\": \"False\",\"channelName\": \"Chat\",\"marketingProduct\": \"Purchase\",\"homePhone\": \"000-000-000\",\"leadType\": \"CB\",\"agentId\": \"609\",\"agentEmail\": \"UdhayaBanu.J@mrcooper.com\",\"Webkeyword\": \"Daily_Rates_Chat\"}', 'options': {'raw': {'language': 'json'}}}, 'url': {'raw': 'https://mrcooperqa.azure-api.net/LeadSubmission/messages', 'protocol': 'https', 'host': ['mrcooperqa', 'azure-api', 'net'], 'path': ['LeadSubmission', 'messages']}}, 'response': []}, {'name': 'GetEscrowInformation', 'request': {'method': 'POST', 'header': [{'key': 'Ocp-Apim-Subscription-Key', 'value': 'fb04e8fb2623447aaa3cc32d6be5752d', 'type': 'text'}, {'key': 'Content-Type', 'value': 'application/json', 'type': 'text'}], 'body': {'mode': 'raw', 'raw': '{\"getLoanEscrow\": {\"wsUserId\": \"brandLoanEscrow\" , \"wsPassword\": \"worcseNaolDnarb\" , \"loanNumber\": \"638833467\", \"brandArray\": [ \"NSM\"] }}', 'options': {'raw': {'language': 'json'}}}, 'url': {'raw': 'https://mrcooperdev.azure-api.net/lsams/brandloanescrow/getLoanEscrow', 'protocol': 'https', 'host': ['mrcooperdev', 'azure-api', 'net'], 'path': ['lsams', 'brandloanescrow', 'getLoanEscrow']}}, 'response': []}, {'name': 'New Request', 'request': {'method': 'POST', 'header': [{'key': 'Ocp-Apim-Subscription-Key', 'value': '6151c92b6663458ea056037ba4b57e95', 'type': 'text'}], 'body': {'mode': 'raw', 'raw': '{\\r\\n    \"getLoanInformation\": \\r\\n    {\\r\\n        \"wsUserId\": \"brandLoanInformationExtendedV2\",\\r\\n        \"wsPassword\": \"2vDednetxeNoitamrofniNaolDnarb\",\\r\\n        \"loanNumber\": \"643578594\",\\r\\n        \"brandArray\": [\\r\\n            \"NSM\"\\r\\n        ]\\r\\n    }\\r\\n}', 'options': {'raw': {'language': 'json'}}}, 'url': {'raw': 'https://mrcooperqa.azure-api.net/uae/lsams/loaninformationextended/getLoanInformation', 'protocol': 'https', 'host': ['mrcooperqa', 'azure-api', 'net'], 'path': ['uae', 'lsams', 'loaninformationextended', 'getLoanInformation']}}, 'response': []}, {'name': 'HAT Agents', 'request': {'method': 'POST', 'header': [{'key': 'Ocp-Apim-Subscription-Key', 'value': 'fb04e8fb2623447aaa3cc32d6be5752d', 'type': 'text'}, {'key': 'Content-Type', 'value': 'application/json', 'type': 'text'}, {'key': 'ReqClientId', 'value': '62cbb282-0cfb-4757-aff7-b04deecedd22', 'type': 'text', 'disabled': True}, {'key': 'orgId', 'value': 'c72ff50b-8f9c-4e17-a343-1e8b042eeb4e', 'type': 'text', 'disabled': True}], 'body': {'mode': 'raw', 'raw': '{\"query\":\"{ loan(loanNumber:\\\\\"134499312\\\\\") { loanNumber: loanNbr loanMessageCodes: MessageCodes { messageCode: msgCd description: MessageCodeDescriptions { codeType: clsCdType codeDesc: clsCdDesc sourceSystem: srcSys } } loanKey MiniMirandaFlag: LoanExtension { miniMrndFlg refnBenifit mktTier} }}\",\"variables\":{}}'}, 'url': {'raw': 'https://mrcooperdev.azure-api.net/uae/sods/graphql', 'protocol': 'https', 'host': ['mrcooperdev', 'azure-api', 'net'], 'path': ['uae', 'sods', 'graphql']}}, 'response': []}, {'name': 'OneTime Link', 'request': {'method': 'POST', 'header': [{'key': 'Ocp-Apim-Subscription-Key', 'value': '6151c92b6663458ea056037ba4b57e95', 'type': 'text'}], 'body': {'mode': 'raw', 'raw': '{\\r\\n    \"customer_first_name\": \"Smith\",\\r\\n    \"customer_id\": \"100858242\",\\r\\n    \"loan_number\": \"643578594\",\\r\\n    \"resource_type\": \"servicing_chat\",\\r\\n    \"agent_id\": \"609\",\\r\\n    \"brand_name\": \"NSM\",\\r\\n    \"channel\": \"email\",\\r\\n    \"redirect_url\": \"https://www.mrcooper.com\",\\r\\n    \"email\":\"UdhayaBanu.J@mrcooper.com\"\\r\\n}', 'options': {'raw': {'language': 'json'}}}, 'url': {'raw': 'https://mrcooperqa.azure-api.net/uae/lsamspaymentprocess/digital/onetimelink', 'protocol': 'https', 'host': ['mrcooperqa', 'azure-api', 'net'], 'path': ['uae', 'lsamspaymentprocess', 'digital', 'onetimelink'], 'query': [{'key': '', 'value': '', 'disabled': True}]}}, 'response': []}, {'name': 'OTL Expiration API', 'request': {'method': 'POST', 'header': [{'key': 'Ocp-Apim-Subscription-Key', 'value': 'fb04e8fb2623447aaa3cc32d6be5752d', 'type': 'text'}], 'url': {'raw': 'https://mrcooperdev.azure-api.net/uae/lsamspaymentprocess/digital/onetimelink/{otlid}', 'protocol': 'https', 'host': ['mrcooperdev', 'azure-api', 'net'], 'path': ['uae', 'lsamspaymentprocess', 'digital', 'onetimelink', '{otlid}']}}, 'response': []}, {'name': 'New Request', 'request': {'method': 'GET', 'header': [], 'url': {'raw': ''}}, 'response': []}, {'name': 'getPaperlessStatus', 'request': {'method': 'POST', 'header': [{'key': 'Ocp-Apim-Subscription-Key', 'value': '6151c92b6663458ea056037ba4b57e95', 'type': 'text'}], 'body': {'mode': 'raw', 'raw': '{\\n  \"getBorrowerInformation\": {\\n    \"wsUserId\": \"brandLoanBorrower\",\\n    \"wsPassword\": \"reworrobNaolDnarb\",\\n    \"loanNumber\": \"53543478\",\\n    \"brandArray\": [\\n      \"CCM\"\\n    ]\\n  }\\n}', 'options': {'raw': {'language': 'json'}}}, 'url': {'raw': 'https://mrcooperqa.azure-api.net/lsams/brandloanborrower/getBorrowerInformation', 'protocol': 'https', 'host': ['mrcooperqa', 'azure-api', 'net'], 'path': ['lsams', 'brandloanborrower', 'getBorrowerInformation']}}, 'response': []}, {'name': 'Put Paperless-QA', 'request': {'auth': {'type': 'bearer', 'bearer': [{'key': 'token', 'value': 'eyJ0eXAiOiJKV1QiLCJhbGciOiJSUzI1NiIsIng1dCI6IjlHbW55RlBraGMzaE91UjIybXZTdmduTG83WSIsImtpZCI6IjlHbW55RlBraGMzaE91UjIybXZTdmduTG83WSJ9.eyJhdWQiOiJodHRwczovL21yY3FhLmNybS5keW5hbWljcy5jb20vIiwiaXNzIjoiaHR0cHM6Ly9zdHMud2luZG93cy5uZXQvMDBhMmYyZDktMWQ3Yi00YTc1LWFkYjEtMGM2NDYzNmI4MDZiLyIsImlhdCI6MTcwMDU3MTIzMywibmJmIjoxNzAwNTcxMjMzLCJleHAiOjE3MDA1NzUxMzMsImFpbyI6IkUyVmdZTmo4YnI3dDdiVW1UMWgvSGErWm56UzNGZ0E9IiwiYXBwaWQiOiI1YjRmYjljYS0xMzFiLTQ2OTktYWUxNC03MjYzOTZhZTRlN2QiLCJhcHBpZGFjciI6IjEiLCJpZHAiOiJodHRwczovL3N0cy53aW5kb3dzLm5ldC8wMGEyZjJkOS0xZDdiLTRhNzUtYWRiMS0wYzY0NjM2YjgwNmIvIiwib2lkIjoiM2U5Nzc3NjAtYjYyOS00YzkyLWIwYzctODkxNGZhNDcwZWIxIiwicmgiOiIwLkFRTUEyZktpQUhzZGRVcXRzUXhrWTJ1QWF3Y0FBQUFBQUFBQXdBQUFBQUFBQUFBREFBQS4iLCJzdWIiOiIzZTk3Nzc2MC1iNjI5LTRjOTItYjBjNy04OTE0ZmE0NzBlYjEiLCJ0ZW5hbnRfcmVnaW9uX3Njb3BlIjoiTkEiLCJ0aWQiOiIwMGEyZjJkOS0xZDdiLTRhNzUtYWRiMS0wYzY0NjM2YjgwNmIiLCJ1dGkiOiJ3bUtxYXpnVm9VU1FFdmhTdG91dUFBIiwidmVyIjoiMS4wIiwieG1zX2NhZSI6IjEifQ.ryNmyMkYTZTpPnWvFmdoxwnUxw6ZLbAzEFc2_qrJZayFtEpv7T9uyYRyqbrMMAB1hUF3_0G-exypFAvtpmcJL4MF4JfxQO2_BM-d1vkkbg3HrMJf-64XeXYtzJkRKQRhcUc7DT-HR1UWa1654G1Sj5CYD1ua5nlZ5x3NbEk8DbreFP6C2BRTaDAc5W-y8lVKuA-TA_3_IaPCDeCXaIv3rGu7gUP72ukc5TfjNubecS2Vhb82l9mTRpNh9t5Jn5g0zCRK7a4DFrSxmWf5nvjAl_JVj4WK5K0F-2_KWzLAhPEVdztmYjs7sENZbcVpSDElhFrlebt88jfX7tBOstI_mA', 'type': 'string'}]}, 'method': 'PUT', 'header': [{'key': 'brand-name', 'value': 'CCM', 'type': 'text'}, {'key': 'Content-Type', 'value': 'application/json', 'type': 'text'}, {'key': 'Ocp-Apim-Subscription-Key', 'value': '6151c92b6663458ea056037ba4b57e95', 'type': 'text'}, {'key': 'Authorization', 'value': 'Bearer eyJ0eXAiOiJKV1QiLCJhbGciOiJSUzI1NiIsIng1dCI6IjlHbW55RlBraGMzaE91UjIybXZTdmduTG83WSIsImtpZCI6IjlHbW55RlBraGMzaE91UjIybXZTdmduTG83WSJ9.eyJhdWQiOiJodHRwczovL21yY3FhLmNybS5keW5hbWljcy5jb20vIiwiaXNzIjoiaHR0cHM6Ly9zdHMud2luZG93cy5uZXQvMDBhMmYyZDktMWQ3Yi00YTc1LWFkYjEtMGM2NDYzNmI4MDZiLyIsImlhdCI6MTcwMDU3MTIzMywibmJmIjoxNzAwNTcxMjMzLCJleHAiOjE3MDA1NzUxMzMsImFpbyI6IkUyVmdZTmo4YnI3dDdiVW1UMWgvSGErWm56UzNGZ0E9IiwiYXBwaWQiOiI1YjRmYjljYS0xMzFiLTQ2OTktYWUxNC03MjYzOTZhZTRlN2QiLCJhcHBpZGFjciI6IjEiLCJpZHAiOiJodHRwczovL3N0cy53aW5kb3dzLm5ldC8wMGEyZjJkOS0xZDdiLTRhNzUtYWRiMS0wYzY0NjM2YjgwNmIvIiwib2lkIjoiM2U5Nzc3NjAtYjYyOS00YzkyLWIwYzctODkxNGZhNDcwZWIxIiwicmgiOiIwLkFRTUEyZktpQUhzZGRVcXRzUXhrWTJ1QWF3Y0FBQUFBQUFBQXdBQUFBQUFBQUFBREFBQS4iLCJzdWIiOiIzZTk3Nzc2MC1iNjI5LTRjOTItYjBjNy04OTE0ZmE0NzBlYjEiLCJ0ZW5hbnRfcmVnaW9uX3Njb3BlIjoiTkEiLCJ0aWQiOiIwMGEyZjJkOS0xZDdiLTRhNzUtYWRiMS0wYzY0NjM2YjgwNmIiLCJ1dGkiOiJ3bUtxYXpnVm9VU1FFdmhTdG91dUFBIiwidmVyIjoiMS4wIiwieG1zX2NhZSI6IjEifQ.ryNmyMkYTZTpPnWvFmdoxwnUxw6ZLbAzEFc2_qrJZayFtEpv7T9uyYRyqbrMMAB1hUF3_0G-exypFAvtpmcJL4MF4JfxQO2_BM-d1vkkbg3HrMJf-64XeXYtzJkRKQRhcUc7DT-HR1UWa1654G1Sj5CYD1ua5nlZ5x3NbEk8DbreFP6C2BRTaDAc5W-y8lVKuA-TA_3_IaPCDeCXaIv3rGu7gUP72ukc5TfjNubecS2Vhb82l9mTRpNh9t5Jn5g0zCRK7a4DFrSxmWf5nvjAl_JVj4WK5K0F-2_KWzLAhPEVdztmYjs7sENZbcVpSDElhFrlebt88jfX7tBOstI_mA', 'type': 'text'}], 'body': {'mode': 'raw', 'raw': '{\\r\\n \"email_address\": \"YLIMA1777@YourIsp.com\",\\r\\n \"paperless_billing\": true\\r\\n}'}, 'url': {'raw': 'https://mrcooperqa.azure-api.net/uae/digital/customermaster/v1/customers/100385458/loans/51513712/paperlessBilling', 'protocol': 'https', 'host': ['mrcooperqa', 'azure-api', 'net'], 'path': ['uae', 'digital', 'customermaster', 'v1', 'customers', '100385458', 'loans', '51513712', 'paperlessBilling']}}, 'response': []}, {'name': 'Put Paperless-QA Copy', 'request': {'auth': {'type': 'bearer', 'bearer': [{'key': 'token', 'value': 'eyJ0eXAiOiJKV1QiLCJhbGciOiJSUzI1NiIsIng1dCI6IjlHbW55RlBraGMzaE91UjIybXZTdmduTG83WSIsImtpZCI6IjlHbW55RlBraGMzaE91UjIybXZTdmduTG83WSJ9.eyJhdWQiOiJodHRwczovL21yY3FhLmNybS5keW5hbWljcy5jb20vIiwiaXNzIjoiaHR0cHM6Ly9zdHMud2luZG93cy5uZXQvMDBhMmYyZDktMWQ3Yi00YTc1LWFkYjEtMGM2NDYzNmI4MDZiLyIsImlhdCI6MTcwMDU3MTIzMywibmJmIjoxNzAwNTcxMjMzLCJleHAiOjE3MDA1NzUxMzMsImFpbyI6IkUyVmdZTmo4YnI3dDdiVW1UMWgvSGErWm56UzNGZ0E9IiwiYXBwaWQiOiI1YjRmYjljYS0xMzFiLTQ2OTktYWUxNC03MjYzOTZhZTRlN2QiLCJhcHBpZGFjciI6IjEiLCJpZHAiOiJodHRwczovL3N0cy53aW5kb3dzLm5ldC8wMGEyZjJkOS0xZDdiLTRhNzUtYWRiMS0wYzY0NjM2YjgwNmIvIiwib2lkIjoiM2U5Nzc3NjAtYjYyOS00YzkyLWIwYzctODkxNGZhNDcwZWIxIiwicmgiOiIwLkFRTUEyZktpQUhzZGRVcXRzUXhrWTJ1QWF3Y0FBQUFBQUFBQXdBQUFBQUFBQUFBREFBQS4iLCJzdWIiOiIzZTk3Nzc2MC1iNjI5LTRjOTItYjBjNy04OTE0ZmE0NzBlYjEiLCJ0ZW5hbnRfcmVnaW9uX3Njb3BlIjoiTkEiLCJ0aWQiOiIwMGEyZjJkOS0xZDdiLTRhNzUtYWRiMS0wYzY0NjM2YjgwNmIiLCJ1dGkiOiJ3bUtxYXpnVm9VU1FFdmhTdG91dUFBIiwidmVyIjoiMS4wIiwieG1zX2NhZSI6IjEifQ.ryNmyMkYTZTpPnWvFmdoxwnUxw6ZLbAzEFc2_qrJZayFtEpv7T9uyYRyqbrMMAB1hUF3_0G-exypFAvtpmcJL4MF4JfxQO2_BM-d1vkkbg3HrMJf-64XeXYtzJkRKQRhcUc7DT-HR1UWa1654G1Sj5CYD1ua5nlZ5x3NbEk8DbreFP6C2BRTaDAc5W-y8lVKuA-TA_3_IaPCDeCXaIv3rGu7gUP72ukc5TfjNubecS2Vhb82l9mTRpNh9t5Jn5g0zCRK7a4DFrSxmWf5nvjAl_JVj4WK5K0F-2_KWzLAhPEVdztmYjs7sENZbcVpSDElhFrlebt88jfX7tBOstI_mA', 'type': 'string'}]}, 'method': 'PUT', 'header': [{'key': 'brand-name', 'value': 'NSM', 'type': 'text'}, {'key': 'Content-Type', 'value': 'application/json', 'type': 'text'}, {'key': 'Ocp-Apim-Subscription-Key', 'value': '6151c92b6663458ea056037ba4b57e95', 'type': 'text'}, {'key': 'Authorization', 'value': 'Bearer eyJ0eXAiOiJKV1QiLCJhbGciOiJSUzI1NiIsIng1dCI6IjlHbW55RlBraGMzaE91UjIybXZTdmduTG83WSIsImtpZCI6IjlHbW55RlBraGMzaE91UjIybXZTdmduTG83WSJ9.eyJhdWQiOiJodHRwczovL21yY3FhLmNybS5keW5hbWljcy5jb20vIiwiaXNzIjoiaHR0cHM6Ly9zdHMud2luZG93cy5uZXQvMDBhMmYyZDktMWQ3Yi00YTc1LWFkYjEtMGM2NDYzNmI4MDZiLyIsImlhdCI6MTcwMDU3MTIzMywibmJmIjoxNzAwNTcxMjMzLCJleHAiOjE3MDA1NzUxMzMsImFpbyI6IkUyVmdZTmo4YnI3dDdiVW1UMWgvSGErWm56UzNGZ0E9IiwiYXBwaWQiOiI1YjRmYjljYS0xMzFiLTQ2OTktYWUxNC03MjYzOTZhZTRlN2QiLCJhcHBpZGFjciI6IjEiLCJpZHAiOiJodHRwczovL3N0cy53aW5kb3dzLm5ldC8wMGEyZjJkOS0xZDdiLTRhNzUtYWRiMS0wYzY0NjM2YjgwNmIvIiwib2lkIjoiM2U5Nzc3NjAtYjYyOS00YzkyLWIwYzctODkxNGZhNDcwZWIxIiwicmgiOiIwLkFRTUEyZktpQUhzZGRVcXRzUXhrWTJ1QWF3Y0FBQUFBQUFBQXdBQUFBQUFBQUFBREFBQS4iLCJzdWIiOiIzZTk3Nzc2MC1iNjI5LTRjOTItYjBjNy04OTE0ZmE0NzBlYjEiLCJ0ZW5hbnRfcmVnaW9uX3Njb3BlIjoiTkEiLCJ0aWQiOiIwMGEyZjJkOS0xZDdiLTRhNzUtYWRiMS0wYzY0NjM2YjgwNmIiLCJ1dGkiOiJ3bUtxYXpnVm9VU1FFdmhTdG91dUFBIiwidmVyIjoiMS4wIiwieG1zX2NhZSI6IjEifQ.ryNmyMkYTZTpPnWvFmdoxwnUxw6ZLbAzEFc2_qrJZayFtEpv7T9uyYRyqbrMMAB1hUF3_0G-exypFAvtpmcJL4MF4JfxQO2_BM-d1vkkbg3HrMJf-64XeXYtzJkRKQRhcUc7DT-HR1UWa1654G1Sj5CYD1ua5nlZ5x3NbEk8DbreFP6C2BRTaDAc5W-y8lVKuA-TA_3_IaPCDeCXaIv3rGu7gUP72ukc5TfjNubecS2Vhb82l9mTRpNh9t5Jn5g0zCRK7a4DFrSxmWf5nvjAl_JVj4WK5K0F-2_KWzLAhPEVdztmYjs7sENZbcVpSDElhFrlebt88jfX7tBOstI_mA', 'type': 'text'}], 'body': {'mode': 'raw', 'raw': '{\\r\\n \"email_address\": \"YLIMA1777@YourIsp.com\",\\r\\n \"paperless_billing\": true\\r\\n}'}, 'url': {'raw': 'https://mrcooperdev.azure-api.net/uae/digital/customermaster/v1/customers/100385458/loans/100000181/paperlessBilling', 'protocol': 'https', 'host': ['mrcooperdev', 'azure-api', 'net'], 'path': ['uae', 'digital', 'customermaster', 'v1', 'customers', '100385458', 'loans', '100000181', 'paperlessBilling']}}, 'response': []}]\n"
     ]
    }
   ],
   "source": [
    "import json\n",
    "with open('inputpostman.json', encoding='utf8') as postman_collection_file:\n",
    "    a = json.load(postman_collection_file)\n",
    "print(a['item'])"
   ]
  },
  {
   "cell_type": "code",
   "execution_count": 57,
   "metadata": {},
   "outputs": [],
   "source": [
    "def ParseJSON(json, result = {}):\n",
    "    abbrevation  = {\"<class 'str'>\":'String', \"<class 'bool'>\":'Boolean', \"<class 'int'>\":'Int', \"<class 'list'>\":'List'}\n",
    "    parentkey = next(iter(json)) \n",
    "    result[parentkey] = []\n",
    "    child = json[parentkey][0] if type(json[parentkey]) == type([]) and json[parentkey]!=[] else json[parentkey]\n",
    "    if type(child)==type({}):\n",
    "        ParseJSON(child, result)\n",
    "        for childkey in child:\n",
    "            childvalue = child[childkey]\n",
    "            if type(childvalue) == type({}) or (type(childvalue) == type([]) and childvalue!=[] and type[childvalue[0]]==type({})):\n",
    "                result[parentkey].append({childkey:childkey+'JSON'})\n",
    "                ParseJSON(childvalue, result)\n",
    "            else:\n",
    "                result[parentkey].append({childkey:abbrevation[str(type(childvalue))]})\n",
    "    if result[parentkey]==[]: del result[parentkey]\n",
    "    return result"
   ]
  },
  {
   "cell_type": "code",
   "execution_count": 58,
   "metadata": {},
   "outputs": [
    {
     "name": "stdout",
     "output_type": "stream",
     "text": [
      "{'': [{'wsUserId': 'String'}, {'wsPassword': 'String'}, {'loanNumber': 'String'}, {'brandArray': 'List'}]}\n"
     ]
    }
   ],
   "source": [
    "j = \"{\\r\\n \\\"wsUserId\\\": \\\"brandLoanDemandHistory\\\", \\r\\n \\\"wsPassword\\\": \\\"yrotsihDnamedNaolDnarb\\\", \\r\\n \\\"loanNumber\\\": \\\"596400270\\\",\\r\\n \\\"brandArray\\\": [\\r\\n \\\"NSM\\\"\\r\\n ]\\r\\n }\"\n",
    "j = json.loads(j)\n",
    "j = j if type(j[next(iter(j))]) == type({}) else {'':j}\n",
    "print(ParseJSON(j))"
   ]
  },
  {
   "cell_type": "code",
   "execution_count": 50,
   "metadata": {},
   "outputs": [
    {
     "name": "stdout",
     "output_type": "stream",
     "text": [
      "{'': {'wsUserId': 'brandLoanDemandHistory', 'wsPassword': 'yrotsihDnamedNaolDnarb', 'loanNumber': '596400270', 'brandArray': ['NSM']}}\n"
     ]
    }
   ],
   "source": [
    "\n",
    "print(j)"
   ]
  },
  {
   "cell_type": "code",
   "execution_count": 51,
   "metadata": {},
   "outputs": [
    {
     "data": {
      "text/plain": [
       "''"
      ]
     },
     "execution_count": 51,
     "metadata": {},
     "output_type": "execute_result"
    }
   ],
   "source": [
    "next(iter(j))"
   ]
  },
  {
   "cell_type": "code",
   "execution_count": null,
   "metadata": {},
   "outputs": [],
   "source": []
  }
 ],
 "metadata": {
  "kernelspec": {
   "display_name": "Python 3",
   "language": "python",
   "name": "python3"
  },
  "language_info": {
   "codemirror_mode": {
    "name": "ipython",
    "version": 3
   },
   "file_extension": ".py",
   "mimetype": "text/x-python",
   "name": "python",
   "nbconvert_exporter": "python",
   "pygments_lexer": "ipython3",
   "version": "3.12.2"
  }
 },
 "nbformat": 4,
 "nbformat_minor": 2
}
